{
  "nbformat": 4,
  "nbformat_minor": 0,
  "metadata": {
    "colab": {
      "provenance": [],
      "authorship_tag": "ABX9TyMNn/0jaf2ZZLv6Z+gQFbvr",
      "include_colab_link": true
    },
    "kernelspec": {
      "name": "python3",
      "display_name": "Python 3"
    },
    "language_info": {
      "name": "python"
    }
  },
  "cells": [
    {
      "cell_type": "markdown",
      "metadata": {
        "id": "view-in-github",
        "colab_type": "text"
      },
      "source": [
        "<a href=\"https://colab.research.google.com/github/Mahaboba/ekra/blob/main/Ekra.ipynb\" target=\"_parent\"><img src=\"https://colab.research.google.com/assets/colab-badge.svg\" alt=\"Open In Colab\"/></a>"
      ]
    },
    {
      "cell_type": "code",
      "execution_count": null,
      "metadata": {
        "colab": {
          "base_uri": "https://localhost:8080/"
        },
        "id": "PN1m52HsIhsR",
        "outputId": "265d69f5-403b-42fa-a749-243f5f3d1c6d"
      },
      "outputs": [
        {
          "output_type": "stream",
          "name": "stdout",
          "text": [
            "  Name  Age(year)  Height(cm)\n",
            "a    X         20         180\n",
            "b    Y         21         160\n",
            "c    Z         19         155\n",
            "d    W         23         190\n",
            "e    U         35         100\n",
            "f    V         30         165\n",
            "  Name  Age(year)  Height(cm)  Cum.Sum  Dev. in Age\n",
            "a    X         20         180      180    -4.666667\n",
            "b    Y         21         160      340    -3.666667\n",
            "c    Z         19         155      495    -5.666667\n",
            "d    W         23         190      685    -1.666667\n",
            "e    U         35         100      785    10.333333\n",
            "f    V         30         165      950     5.333333\n",
            "a       NaN\n",
            "b       NaN\n",
            "c       NaN\n",
            "d    171.25\n",
            "e    151.25\n",
            "f    152.50\n",
            "Name: R.Mean, dtype: float64\n",
            "                    a         b         c         d          e         f\n",
            "Name                X         Y         Z         W          U         V\n",
            "Age(year)          20        21        19        23         35        30\n",
            "Height(cm)        180       160       155       190        100       165\n",
            "Cum.Sum           180       340       495       685        785       950\n",
            "Dev. in Age -4.666667 -3.666667 -5.666667 -1.666667  10.333333  5.333333\n",
            "R.Mean            NaN       NaN       NaN    171.25     151.25     152.5\n",
            "  Name  Age(year)  Height(cm)\n",
            "a    X         20         180\n",
            "b    Y         21         160\n",
            "c    Z         19         155\n",
            "d    W         23         190\n",
            "e    U         35         100\n",
            "f    V         30         165\n",
            "  Name  Age(year)  Height(cm)  Cum.Sum  Dev. in Age\n",
            "a    X         20         180      180    -4.666667\n",
            "b    Y         21         160      340    -3.666667\n",
            "c    Z         19         155      495    -5.666667\n",
            "d    W         23         190      685    -1.666667\n",
            "e    U         35         100      785    10.333333\n",
            "f    V         30         165      950     5.333333\n",
            "a       NaN\n",
            "b       NaN\n",
            "c       NaN\n",
            "d    171.25\n",
            "e    151.25\n",
            "f    152.50\n",
            "Name: R.Mean, dtype: float64\n",
            "                    a         b         c         d          e         f\n",
            "Name                X         Y         Z         W          U         V\n",
            "Age(year)          20        21        19        23         35        30\n",
            "Height(cm)        180       160       155       190        100       165\n",
            "Cum.Sum           180       340       495       685        785       950\n",
            "Dev. in Age -4.666667 -3.666667 -5.666667 -1.666667  10.333333  5.333333\n",
            "R.Mean            NaN       NaN       NaN    171.25     151.25     152.5\n"
          ]
        }
      ],
      "source": [
        "import pandas as pd\n",
        "data={'Name':['X','Y','Z','W','U','V'],\n",
        "     'Age':[20,21,19,23,35,30],\n",
        "    'Height':[180, 160, 155, 190, 100, 165]}\n",
        "pd_data = pd.DataFrame(data, index=['a','b','c','d','e','g'])\n",
        "pd_data = pd_data.rename(columns={'Age':'Age(year)','Height': 'Height(cm)'},\n",
        "                         index= {'g':'f'})\n",
        "print(pd_data)\n",
        "pd_data['Cum.Sum']= pd_data['Height(cm)'].cumsum()\n",
        "pd_data['Dev. in Age']= pd_data['Age(year)'] - pd_data['Age(year)'].mean()\n",
        "print(pd_data)\n",
        "pd_data['R.Mean'] = pd_data['Height(cm)'].rolling(window=4).mean()\n",
        "\n",
        "print(pd_data['R.Mean'])\n",
        "pd_data = pd_data.transpose()\n",
        "print(pd_data)"
      ]
    },
    {
      "cell_type": "code",
      "source": [],
      "metadata": {
        "id": "M-hCAlFkVlGd"
      },
      "execution_count": null,
      "outputs": []
    },
    {
      "cell_type": "code",
      "source": [
        "_"
      ],
      "metadata": {
        "id": "SXKU-c_gKVuU"
      },
      "execution_count": null,
      "outputs": []
    }
  ]
}